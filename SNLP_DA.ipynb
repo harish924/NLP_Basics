{
 "cells": [
  {
   "cell_type": "markdown",
   "metadata": {},
   "source": [
    "#                                            19MAI0042\n",
    "#                                           PALLANTLA HARISH\n",
    "#                                           DIGITAL ASSIGNMENT\n",
    "TOPIC : NLP TOOL"
   ]
  },
  {
   "cell_type": "markdown",
   "metadata": {},
   "source": [
    "Tool : TextBlob\n",
    "   \n",
    "Textblob is an open-source Python library for processing text-based data and offers smooth integration with other programming languages via its APIs.TextBlob is a powerful, fast and convenient NLP package as well. It is mostly used to perform standard NLP operations. It provides a simple API for diving into common natural language processing (NLP) tasks such as part-of-speech tagging, noun phrase extraction, sentiment analysis, classification, translation etc.,\n",
    "\n",
    "\n",
    "To install the tool using Anaconda prompt\n",
    "\n",
    "conda install -c conda-forge textblob \\n\n",
    "python -m textblob.download_corpora"
   ]
  },
  {
   "cell_type": "code",
   "execution_count": null,
   "metadata": {},
   "outputs": [],
   "source": [
    "#Importing TextBlob\n",
    "from textblob import TextBlob"
   ]
  },
  {
   "cell_type": "code",
   "execution_count": 11,
   "metadata": {},
   "outputs": [],
   "source": [
    "#we are considering a sample text to perform various operations using textblob toolkit\n",
    "data = TextBlob(\"Man by nature is a creature eager to taste beauty, and there is nothing more beautiful than nature.\"\n",
    "                \" The manifestations of the beauty of nature for the beauty of nature are many manifestations.\"\n",
    "                \" Wherever a person turns his face he will inevitably find a manifestation of these appearances.\"\n",
    "                \" Perhaps the most striking of these is the unique diversity in the colors around us, which created a wonderful natural painting.\"\n",
    "                \" Other manifestations include variations in sizes, shapes, even among the creatures of the same species.\")"
   ]
  },
  {
   "cell_type": "markdown",
   "metadata": {},
   "source": [
    "# Tokenization"
   ]
  },
  {
   "cell_type": "code",
   "execution_count": 12,
   "metadata": {},
   "outputs": [
    {
     "data": {
      "text/plain": [
       "WordList(['Man', 'by', 'nature', 'is', 'a', 'creature', 'eager', 'to', 'taste', 'beauty', 'and', 'there', 'is', 'nothing', 'more', 'beautiful', 'than', 'nature', 'The', 'manifestations', 'of', 'the', 'beauty', 'of', 'nature', 'for', 'the', 'beauty', 'of', 'nature', 'are', 'many', 'manifestations', 'Wherever', 'a', 'person', 'turns', 'his', 'face', 'he', 'will', 'inevitably', 'find', 'a', 'manifestation', 'of', 'these', 'appearances', 'Perhaps', 'the', 'most', 'striking', 'of', 'these', 'is', 'the', 'unique', 'diversity', 'in', 'the', 'colors', 'around', 'us', 'which', 'created', 'a', 'wonderful', 'natural', 'painting', 'Other', 'manifestations', 'include', 'variations', 'in', 'sizes', 'shapes', 'even', 'among', 'the', 'creatures', 'of', 'the', 'same', 'species'])"
      ]
     },
     "execution_count": 12,
     "metadata": {},
     "output_type": "execute_result"
    }
   ],
   "source": [
    "#tokens identified from the sentence\n",
    "data.words"
   ]
  },
  {
   "cell_type": "code",
   "execution_count": 13,
   "metadata": {},
   "outputs": [
    {
     "data": {
      "text/plain": [
       "[Sentence(\"Man by nature is a creature eager to taste beauty, and there is nothing more beautiful than nature.\"),\n",
       " Sentence(\"The manifestations of the beauty of nature for the beauty of nature are many manifestations.\"),\n",
       " Sentence(\"Wherever a person turns his face he will inevitably find a manifestation of these appearances.\"),\n",
       " Sentence(\"Perhaps the most striking of these is the unique diversity in the colors around us, which created a wonderful natural painting.\"),\n",
       " Sentence(\"Other manifestations include variations in sizes, shapes, even among the creatures of the same species.\")]"
      ]
     },
     "execution_count": 13,
     "metadata": {},
     "output_type": "execute_result"
    }
   ],
   "source": [
    "#sentences can also be easily identified from the text document\n",
    "data.sentences"
   ]
  },
  {
   "cell_type": "code",
   "execution_count": 14,
   "metadata": {},
   "outputs": [
    {
     "name": "stdout",
     "output_type": "stream",
     "text": [
      "Sentiment(polarity=0.675, subjectivity=0.75)\n",
      "Sentiment(polarity=0.5, subjectivity=0.5)\n",
      "Sentiment(polarity=0.0, subjectivity=1.0)\n",
      "Sentiment(polarity=0.495, subjectivity=0.78)\n",
      "Sentiment(polarity=-0.0625, subjectivity=0.25)\n"
     ]
    }
   ],
   "source": [
    "#Sentiment analysis is basically the process of determining the attitude or the emotion of the writer, i.e.,\n",
    "#whether it is positive or negative or neutral.Polarity is a float value which lies in the range of [-1,1].\n",
    "#Subjectivity is also a float value which lies in the range of [0,1].\n",
    "for sentence in data.sentences:\n",
    "    print(sentence.sentiment)"
   ]
  },
  {
   "cell_type": "markdown",
   "metadata": {},
   "source": [
    "# Lemmatization"
   ]
  },
  {
   "cell_type": "code",
   "execution_count": 16,
   "metadata": {},
   "outputs": [],
   "source": [
    "#import Word\n",
    "from textblob import Word"
   ]
  },
  {
   "cell_type": "code",
   "execution_count": 28,
   "metadata": {},
   "outputs": [
    {
     "name": "stdout",
     "output_type": "stream",
     "text": [
      "snakes : snake\n",
      "indices : index\n"
     ]
    }
   ],
   "source": [
    "#stemming is performed on words to get the root word\n",
    "a = Word(\"snakes\")\n",
    "print(\"snakes :\", a.lemmatize())\n",
    "a = Word(\"indices\")\n",
    "print(\"indices :\", a.lemmatize())"
   ]
  },
  {
   "cell_type": "code",
   "execution_count": 32,
   "metadata": {},
   "outputs": [
    {
     "name": "stdout",
     "output_type": "stream",
     "text": [
      "better : good\n",
      "went : go\n"
     ]
    }
   ],
   "source": [
    "#root word is identified based on the pos given to word \n",
    "b = Word(\"better\")\n",
    "print(\"better :\", b.lemmatize(\"a\"))\n",
    "b = Word(\"went\")\n",
    "print(\"went :\", b.lemmatize(\"v\"))"
   ]
  },
  {
   "cell_type": "code",
   "execution_count": 68,
   "metadata": {},
   "outputs": [
    {
     "name": "stdout",
     "output_type": "stream",
     "text": [
      "['ravi', 'big house', 'harish', 'address book']\n"
     ]
    }
   ],
   "source": [
    "#all the nouns in the sentence are identified using command called noun_phrases\n",
    "data1 = TextBlob(\"Ravi want to buy a big house. Harish is searching for address book.\") \n",
    "data1 = data1.noun_phrases\n",
    "print(data1) "
   ]
  },
  {
   "cell_type": "code",
   "execution_count": 70,
   "metadata": {},
   "outputs": [
    {
     "name": "stdout",
     "output_type": "stream",
     "text": [
      "['ravi', 'harish']\n"
     ]
    }
   ],
   "source": [
    "#a slight change in text, the meaning changes and as you can see house and book are not printed in the output\n",
    "data1 = TextBlob(\"Ravi want to buy a house. Harish is searching for a book.\") \n",
    "data1 = data1.noun_phrases\n",
    "print(data1)"
   ]
  },
  {
   "cell_type": "code",
   "execution_count": 82,
   "metadata": {},
   "outputs": [
    {
     "name": "stdout",
     "output_type": "stream",
     "text": [
      "defaultdict(<class 'int'>, {'this': 2, 'word': 1, 'is': 4, 'used': 1, 'in': 2, 'a': 2, 'variety': 1, 'of': 8, 'contexts': 1, 'perhaps': 1, 'the': 8, 'most': 1, 'important': 1, 'reference': 1, 'multiple': 1, 'species': 1, 'plants': 1, 'animals': 1, 'wildlife': 1, 'and': 6, 'all': 1, 'that': 3, 'earth': 2, 'contains': 1, 'from': 3, 'topography': 1, 'such': 1, 'as': 3, 'mountains': 2, 'valleys': 1, 'beaches': 1, 'seas': 1, 'forests': 2, 'beauty': 3, 'nature': 2, 'man': 1, 'characterized': 1, 'by': 2, 'its': 1, 'resulting': 1, 'mainly': 1, 'wonderful': 1, 'diversity': 2, 'living': 1, 'organisms': 1, 'exist': 1, 'various': 1, 'parts': 1, 'well': 1, 'unique': 1, 'terrain': 2, 'water': 1, 'plateaus': 1, 'each': 1, 'these': 1, 'features': 1, 'distinguished': 1, 'special': 1, 'distinguishes': 1, 'it': 1, 'other': 1, 'great': 1, 'gave': 1, 'people': 1, 'wide': 1, 'spaces': 1, 'to': 1, 'seek': 1, 'calm': 1, 'tranquility': 2})\n"
     ]
    }
   ],
   "source": [
    "#this gives us the number of times each word occurs in the whole sentence(frequency distribution)\n",
    "data2 = TextBlob(\"This word is used in a variety of contexts. Perhaps the most important reference is the multiple species of plants, animals, wildlife, and all that the earth contains from topography such as mountains, valleys, beaches, and seas and forests. The beauty of nature The nature of man is characterized by its beauty resulting mainly from the wonderful diversity of living organisms that exist in various parts of the earth, as well as the unique terrain of mountains, water, plateaus and forests. Each of these features is distinguished by a special beauty that distinguishes it from Other terrain, and this great diversity gave people wide spaces to seek calm, tranquility, and tranquility.\")\n",
    "data2 = data2.word_counts\n",
    "print(data2) "
   ]
  },
  {
   "cell_type": "markdown",
   "metadata": {},
   "source": [
    "# POS TAGGING"
   ]
  },
  {
   "cell_type": "code",
   "execution_count": 81,
   "metadata": {},
   "outputs": [
    {
     "name": "stdout",
     "output_type": "stream",
     "text": [
      "[('This', 'DT'), ('word', 'NN'), ('is', 'VBZ'), ('used', 'VBN'), ('in', 'IN'), ('a', 'DT'), ('variety', 'NN'), ('of', 'IN'), ('contexts', 'NN'), ('Perhaps', 'RB'), ('the', 'DT'), ('most', 'RBS'), ('important', 'JJ'), ('reference', 'NN'), ('is', 'VBZ'), ('the', 'DT'), ('multiple', 'JJ'), ('species', 'NNS'), ('of', 'IN'), ('plants', 'NNS'), ('animals', 'NNS'), ('wildlife', 'NN'), ('and', 'CC'), ('all', 'DT'), ('that', 'IN'), ('the', 'DT'), ('earth', 'NN'), ('contains', 'VBZ'), ('from', 'IN'), ('topography', 'NN'), ('such', 'JJ'), ('as', 'IN'), ('mountains', 'NNS'), ('valleys', 'NNS'), ('beaches', 'NNS'), ('and', 'CC'), ('seas', 'NNS'), ('And', 'CC'), ('forests', 'NNS'), ('The', 'DT'), ('beauty', 'NN'), ('of', 'IN'), ('nature', 'NN'), ('The', 'DT'), ('nature', 'NN'), ('of', 'IN'), ('man', 'NN'), ('is', 'VBZ'), ('characterized', 'VBN'), ('by', 'IN'), ('its', 'PRP$'), ('beauty', 'NN'), ('resulting', 'VBG'), ('mainly', 'RB'), ('from', 'IN'), ('the', 'DT'), ('wonderful', 'JJ'), ('diversity', 'NN'), ('of', 'IN'), ('living', 'NN'), ('organisms', 'NNS'), ('that', 'WDT'), ('exist', 'VBP'), ('in', 'IN'), ('various', 'JJ'), ('parts', 'NNS'), ('of', 'IN'), ('the', 'DT'), ('earth', 'NN'), ('as', 'RB'), ('well', 'RB'), ('as', 'IN'), ('the', 'DT'), ('unique', 'JJ'), ('terrain', 'NN'), ('of', 'IN'), ('mountains', 'NNS'), ('water', 'NN'), ('plateaus', 'NN'), ('and', 'CC'), ('forests', 'NNS'), ('Each', 'DT'), ('of', 'IN'), ('these', 'DT'), ('features', 'NNS'), ('is', 'VBZ'), ('distinguished', 'VBN'), ('by', 'IN'), ('a', 'DT'), ('special', 'JJ'), ('beauty', 'NN'), ('that', 'WDT'), ('distinguishes', 'VBZ'), ('it', 'PRP'), ('from', 'IN'), ('Other', 'JJ'), ('terrain', 'NN'), ('and', 'CC'), ('this', 'DT'), ('great', 'JJ'), ('diversity', 'NN'), ('gave', 'VBD'), ('people', 'NNS'), ('wide', 'JJ'), ('spaces', 'NNS'), ('to', 'TO'), ('seek', 'VB'), ('calm', 'NN'), ('tranquility', 'NN'), ('and', 'CC'), ('tranquility', 'NN')]\n"
     ]
    }
   ],
   "source": [
    "#POS tagging plays a major role in NLP. here pos tagging is done for each and every word present in the sentence\n",
    "data3 = (\"This word is used in a variety of contexts. Perhaps the most important reference is the multiple species of plants, animals, wildlife, and all that the earth contains from topography such as mountains, valleys, beaches, and seas. , And forests. The beauty of nature The nature of man is characterized by its beauty resulting mainly from the wonderful diversity of living organisms that exist in various parts of the earth, as well as the unique terrain of mountains, water, plateaus and forests. Each of these features is distinguished by a special beauty that distinguishes it from Other terrain, and this great diversity gave people wide spaces to seek calm, tranquility, and tranquility.\")\n",
    "blob_object = TextBlob(data3)\n",
    "print(blob_object.tags)"
   ]
  },
  {
   "cell_type": "code",
   "execution_count": 87,
   "metadata": {},
   "outputs": [
    {
     "data": {
      "text/plain": [
       "'This word is used in a variety of context Perhaps the most important reference is the multiple specie of plant animal wildlife and all that the earth contains from topography such a mountain valley beach and sea'"
      ]
     },
     "execution_count": 87,
     "metadata": {},
     "output_type": "execute_result"
    }
   ],
   "source": [
    "#stemming is performed on the given sentence\n",
    "data4 = (\"This word is used in a variety of contexts. Perhaps the most important reference is the multiple species of plants, animals, wildlife, and all that the earth contains from topography such as mountains, valleys, beaches, and seas.\")\n",
    "sent = TextBlob(data4)\n",
    "\" \". join([w.lemmatize() for w in sent.words])"
   ]
  },
  {
   "cell_type": "code",
   "execution_count": 89,
   "metadata": {},
   "outputs": [
    {
     "data": {
      "text/plain": [
       "[WordList(['This', 'word', 'is']),\n",
       " WordList(['word', 'is', 'used']),\n",
       " WordList(['is', 'used', 'in']),\n",
       " WordList(['used', 'in', 'a']),\n",
       " WordList(['in', 'a', 'variety']),\n",
       " WordList(['a', 'variety', 'of']),\n",
       " WordList(['variety', 'of', 'contexts'])]"
      ]
     },
     "execution_count": 89,
     "metadata": {},
     "output_type": "execute_result"
    }
   ],
   "source": [
    "#n-gram is used to look at pair of words that occur next to each other(here we took 3 gram several others are 4 gram,bi-gram etc)\n",
    "blob = TextBlob(\"This word is used in a variety of contexts.\")\n",
    "blob.ngrams(n=3)"
   ]
  },
  {
   "cell_type": "markdown",
   "metadata": {},
   "source": [
    "# Text Classifier"
   ]
  },
  {
   "cell_type": "code",
   "execution_count": 149,
   "metadata": {},
   "outputs": [],
   "source": [
    "#these are some of the taining and testing data we presented here. We can train our model with huge set of data\n",
    "#by saving the data in the form of a json file and we can access it easily.\n",
    "train = [\n",
    "    ('I love this sandwich.', 'pos'),\n",
    "    ('this is an amazing place!', 'pos'),\n",
    "    ('I feel very good about these beers.', 'pos'),\n",
    "    ('this is my best work.', 'pos'),\n",
    "    (\"what an awesome view\", 'pos'),\n",
    "    ('I do not like this restaurant', 'neg'),\n",
    "    ('I am tired of this stuff.', 'neg'),\n",
    "    (\"I can't deal with this\", 'neg'),\n",
    "    ('he is my sworn enemy!', 'neg'),\n",
    "    ('my boss is horrible.', 'neg')]\n",
    "test = [\n",
    "    ('I like being alone','pos'),\n",
    "    ('I do not enjoy my job', 'neg'),\n",
    "    (\"I ain't feeling dandy today.\", 'neg'),\n",
    "    (\"I feel amazing!\", 'pos'),\n",
    "    (\"I can't believe I'm doing this.\", 'neg'),]"
   ]
  },
  {
   "cell_type": "code",
   "execution_count": 150,
   "metadata": {},
   "outputs": [],
   "source": [
    "#we are importing NaiveBayesClassifier to perform sentiment analysis on the training data\n",
    "from textblob.classifiers import NaiveBayesClassifier\n",
    "c = NaiveBayesClassifier(train)"
   ]
  },
  {
   "cell_type": "code",
   "execution_count": 151,
   "metadata": {},
   "outputs": [
    {
     "data": {
      "text/plain": [
       "'pos'"
      ]
     },
     "execution_count": 151,
     "metadata": {},
     "output_type": "execute_result"
    }
   ],
   "source": [
    "#clasifier predicted it as a positive sentence\n",
    "c.classify(\"This is an amazing library!\")"
   ]
  },
  {
   "cell_type": "code",
   "execution_count": 152,
   "metadata": {},
   "outputs": [
    {
     "data": {
      "text/plain": [
       "'neg'"
      ]
     },
     "execution_count": 152,
     "metadata": {},
     "output_type": "execute_result"
    }
   ],
   "source": [
    "#clasifier predicted it as a negative sentence\n",
    "c.classify(\"I don't like this place.\")"
   ]
  },
  {
   "cell_type": "code",
   "execution_count": 154,
   "metadata": {},
   "outputs": [
    {
     "data": {
      "text/plain": [
       "'neg'"
      ]
     },
     "execution_count": 154,
     "metadata": {},
     "output_type": "execute_result"
    }
   ],
   "source": [
    "#we can observe here that the test case failed to predict it as a positive sentence\n",
    "c.classify(\"I want you to win the race.\")"
   ]
  },
  {
   "cell_type": "code",
   "execution_count": 155,
   "metadata": {},
   "outputs": [
    {
     "data": {
      "text/plain": [
       "0.8"
      ]
     },
     "execution_count": 155,
     "metadata": {},
     "output_type": "execute_result"
    }
   ],
   "source": [
    "#we got 80% accuracy here. but with change in number of training and testing data the accuracy fluctuates \n",
    "c.accuracy(test)"
   ]
  },
  {
   "cell_type": "code",
   "execution_count": 156,
   "metadata": {},
   "outputs": [],
   "source": [
    "#The advantage of TextBlob is, it is a multi-lingual tool. Here as i did tokenization on telugu sentence\n",
    "x = TextBlob(\"నేను బాగున్నాను, ధన్యవాదములు, మరి మీరు ?\")"
   ]
  },
  {
   "cell_type": "code",
   "execution_count": 157,
   "metadata": {},
   "outputs": [
    {
     "data": {
      "text/plain": [
       "[('నేను', 'NN'),\n",
       " ('బాగున్నాను', 'NN'),\n",
       " ('ధన్యవాదములు', 'NNP'),\n",
       " ('మరి', 'NNP'),\n",
       " ('మీరు', 'NNP')]"
      ]
     },
     "execution_count": 157,
     "metadata": {},
     "output_type": "execute_result"
    }
   ],
   "source": [
    "#pos tag for each word\n",
    "x.tags"
   ]
  },
  {
   "cell_type": "code",
   "execution_count": 158,
   "metadata": {
    "scrolled": true
   },
   "outputs": [
    {
     "data": {
      "text/plain": [
       "WordList(['నేను', 'బాగున్నాను', 'ధన్యవాదములు', 'మరి', 'మీరు'])"
      ]
     },
     "execution_count": 158,
     "metadata": {},
     "output_type": "execute_result"
    }
   ],
   "source": [
    "#tokens from the sentence\n",
    "x.words"
   ]
  },
  {
   "cell_type": "markdown",
   "metadata": {},
   "source": [
    "References\n",
    "\n",
    "1)https://textblob.readthedocs.io/en/dev/\n",
    "2)http://rwet.decontextualize.com/book/textblob/\n",
    "3)Dr. Leon Reznik,B. Thomas,Sentiment Analysis, Golisano College of Computing and Information Sciences Rochester Institute of Technology Rochester,New York May 2017."
   ]
  }
 ],
 "metadata": {
  "kernelspec": {
   "display_name": "Python 3",
   "language": "python",
   "name": "python3"
  },
  "language_info": {
   "codemirror_mode": {
    "name": "ipython",
    "version": 3
   },
   "file_extension": ".py",
   "mimetype": "text/x-python",
   "name": "python",
   "nbconvert_exporter": "python",
   "pygments_lexer": "ipython3",
   "version": "3.7.4"
  }
 },
 "nbformat": 4,
 "nbformat_minor": 2
}
