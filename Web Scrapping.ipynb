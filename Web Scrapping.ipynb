{
 "cells": [
  {
   "cell_type": "code",
   "execution_count": 1,
   "metadata": {},
   "outputs": [],
   "source": [
    "from selenium import webdriver\n",
    "from bs4 import BeautifulSoup\n",
    "\n",
    "import pandas as pd\n",
    "import matplotlib.pyplot as plt \n",
    "import seaborn as sns\n",
    "\n",
    "%matplotlib inline\n",
    "sns.set_context('paper')\n",
    "\n",
    "import spacy\n",
    "from spacy import displacy\n",
    "\n",
    "nlp = spacy.load(\"en_core_web_lg\")"
   ]
  },
  {
   "cell_type": "code",
   "execution_count": 2,
   "metadata": {},
   "outputs": [
    {
     "name": "stderr",
     "output_type": "stream",
     "text": [
      "[WDM] - Current google-chrome version is 83.0.4103\n",
      "[WDM] - Get LATEST driver version for 83.0.4103\n"
     ]
    },
    {
     "name": "stdout",
     "output_type": "stream",
     "text": [
      " \n"
     ]
    },
    {
     "name": "stderr",
     "output_type": "stream",
     "text": [
      "[WDM] - Driver [C:\\Users\\Harish\\.wdm\\drivers\\chromedriver\\win32\\83.0.4103.39\\chromedriver.exe] found in cache\n"
     ]
    }
   ],
   "source": [
    "from webdriver_manager.chrome import ChromeDriverManager\n",
    "\n",
    "driver = webdriver.Chrome(ChromeDriverManager().install())"
   ]
  },
  {
   "cell_type": "code",
   "execution_count": 3,
   "metadata": {},
   "outputs": [],
   "source": [
    "driver.get(\"https://www.economicshelp.org/blog/221/stock-market/how-does-the-stock-market-effect-the-economy-2/#:~:text=Economic%20effects%20of%20the%20stock%20market&text=The%20first%20impact%20is%20that,a%20fall%20in%20consumer%20spending.\")"
   ]
  },
  {
   "cell_type": "code",
   "execution_count": 4,
   "metadata": {},
   "outputs": [],
   "source": [
    "content = driver.page_source\n",
    "soup = BeautifulSoup(content)"
   ]
  },
  {
   "cell_type": "code",
   "execution_count": 5,
   "metadata": {},
   "outputs": [],
   "source": [
    "all_paras = soup.find_all('p')"
   ]
  },
  {
   "cell_type": "code",
   "execution_count": 6,
   "metadata": {},
   "outputs": [],
   "source": [
    "text = ''\n",
    "for p in all_paras:\n",
    "    text += p.get_text()"
   ]
  },
  {
   "cell_type": "code",
   "execution_count": 7,
   "metadata": {},
   "outputs": [
    {
     "name": "stdout",
     "output_type": "stream",
     "text": [
      "Movements in the stock market can have a profound economic impact on the economy and individual consumers. A collapse in share prices has the potential to cause widespread economic disruption. Most famously, the stock market crash of 1929 was a key factor in precipitating the great depression of the 1930s. Yet, daily movements in the stock market can also have less impact on the economy than we might imagine. The stock market is not the real economy. Share prices can change for many reasons – such as correcting an over-valuation and even large falls in share do not necessarily lead to lower growth.One well-known joke is:Stock markets have predicted 10 out of the last three recessions.The point is a rapid fall in share prices, doesn’t necessarily mean the economy is doing badly.For example, the stock market crash of 1987, didn’t cause any economic damage in the real economy. (though it did influence monetary policy). The UK cut interest rates in fear the stock market crash would cause a recession. Instead, low-interest rates caused an economic boom with rapid rates of economic growth.The 1987 stock market crash (where shares fell 25% in value) didn’t reflect serious economic problems, and the world economy continued to grow at a decent pace.However, the fall in share prices 2008/09 was reflecting the real economic problems and after the share price falls of 2008, we did get a steep recession starting at the end of 2008 early 2009. The falling share prices and financial uncertainty contributed in a small way to the economic downturn.The fall in share prices since the start of the year primarily reflect concern and uncertainty over the global spread of Coronavirus. Share prices have fallen 15% and could fall further. There are good reasons to believe these share price falls do reflect a real economic shock and could be the precursor to a recession in 2020. The share price falls reflect – not market adjustment – but an awareness of disruption of supply chains, a disruption to the free movement of people and goods, and a shock to aggregate demand as consumers and business cut back on consumption and investment.Between 2000 and 2004, share prices fell steadily (especially in 2002). This did not cause an economic recession, but economic growth was quite strong from 2000-2007 – see great moderation. Share price falls were partly an adjustment to overvalued tech stocks, uncertainty following the 9/11 terrorist attack and just a general bear market. However, this shock was not significant to the economy – the Federal Reserve responded by cutting interest rates, and the economy soon recovered from the temporary blip after Sept 2001.In other words, share prices alone do not cause economic recessions, but if share prices reflect a fundamental weakness in the economy – then they may be the harbinger of an economic slowdown.Plummeting share prices can make headline news. But, how much should we worry when share prices fall? How does it impact the average consumer? And how does it affect the economy?1. Wealth effectThe first impact is that people with shares will see a fall in their wealth. If the fall is significant, it will affect their financial outlook. If they are losing money on shares they will be more hesitant to spend money; this can contribute to a fall in consumer spending. However, this effect should not be given too much importance. Often people who buy shares are wealthy and prepared to lose money; their spending patterns are usually independent of share prices, especially for short-term losses. Also, only around 10% of households own shares – for the majority of consumers, they will not be directly affected by a fall in share prices.The wealth effect is more prominent in the housing market.  (e.g. falling house prices affect more consumers)2. Effect on pensionsAnybody with a private pension or investment trust will be affected by the stock market, at least indirectly. Pension funds invest a significant part of their funds in the stock market. Therefore, if there is a serious and prolonged fall in share prices, it reduces the value of pension funds. This means that future pension payouts will be lower. If share prices fall too much, pension funds can struggle to meet their promises. The important thing is the long-term movements in the share prices. If share prices fall for a long time, then it will definitely affect pension funds and future payouts. This may cause households to have lower pension income, and they may feel the need to save more in other terms.3. ConfidenceOften share price movements are reflections of what is happening in the economy. E.g. a fear of a recession and global slowdown could cause share prices to fall. The stock market itself can affect consumer confidence. Bad headlines of falling share prices are another factor which discourages people from spending. For example, the stock market falls of 2008/09 reflected the fall in confidence. On its own, it may not have much effect, but combined with falling house prices, share prices can be a discouraging factor. However, there are times when the stock market can appear out of step with the rest of the economy. In the depth of a recession, share prices may rise as investors look forward to a recovery two years in the future.4. InvestmentFalling share prices can hamper firms ability to raise finance on the stock market. Firms who are expanding and wish to borrow often do so by issuing more shares – it provides a low-cost way of borrowing more money. However, with falling share prices it becomes much more difficult.5. Bond marketA fall in the stock market makes other investments more attractive. People may move out of shares and into government bonds or gold. These investments offer a better return in times of uncertainty. Though sometimes the stock market could be falling over concerns in government bond markets (e.g. Euro fiscal crisis)Most people who do not own shares will be largely unaffected by short-term movements in the stock market. However, ordinary workers are not completely unaffected by the stock market.1. Pension funds. Many private pension funds will invest in the stock market. A substantial and prolonged fall in the stock market could lead to a fall in the value of their pension fund, and it could lead to lower pension payouts when they retire. Similarly, if the stock market does well, the value of pension funds could increase. Even if people don’t own shares, it is quite likely people with a private pension will have some connection to the stock market.\n",
      "\n",
      "\n",
      "\n",
      "However, most shares are owned by the richest 10% of income owners. According to this paper on middle-class wealth, the poorest 90% of income earners – own just 7% of all equity. So a fall in share prices primarily affects the top 10% of wealthy households.2. Business investment. The stock market could be a source of business investment, e.g. firms offering new shares to finance investment. This could lead to more jobs and growth. The stock market can be a source of private finance when bank finance is limited. However, the stock market is not usually the first source of finance. Most investment is usually financed through bank loans rather than share options. The stock market only plays a limited role in determining investment and jobs.3. Short-termism. It could be argued workers and consumers can be adversely affected by the short-termism that the stock market encourages. Shareholders usually want bigger dividends. Therefore, firms listed on the stock market can feel under pressure to increase short-term profits. This can lead to cost-cutting which affects workers (e.g. zero contract hours), or the firm may be more tempted to engage in collusive practices which push up prices for consumers. It has been argued that UK firms are more prone to short-termism because the stock market plays a bigger role in financing firms. In Germany, firms are more likely to be financed by long-term loans from banks. Typically, banks are more interested in the long-term success of firms and are willing to encourage more investment, rather than short-term profit maximisation.RelatedI am conducting research on corporate performance. I used stock market development, measured by stock market capitalisation to GDP%, as control variable. the result shows that stock market development has significant negative effect on firm performance (Tobin’s q and ROA). I have conducted different robustness checks but the result remains the same.\n",
      "What would be the argument or the reason for such adverse effect of stock market development on firm performance?A collapse in share prices has the potential to cause widespread economic disruption. Most famously, the stock market crash of 1929 was a key factor in precipitating the great depression of the 1930s.Thank you very much. All the facts explained by you are very simple and easy.Agreed. Thank you to the author.Extremely interesting read! Thank you 🙂Commentdocument.getElementById(\"comment\").setAttribute( \"id\", \"a7147477734613f1afb837423d680aef\" );document.getElementById(\"e6137aa713\").setAttribute( \"id\", \"comment\" ); \n",
      "\n",
      "View: all Revision Guides\n",
      "A-Level revision guide\n",
      "£7.95 AS-Level Revision guide\n",
      " £4.00\n",
      "A-Level Model Essays £8.00 GCSE Revision Guide £7.49\n",
      "\n",
      "\n",
      "\n",
      "(adsbygoogle = window.adsbygoogle || []).push({});\n",
      " Cracking Economics\n",
      "– A visual guide\n",
      "– from £6.99What would Keynes Do?\n",
      "– from £6.99UK economy statsYou are welcome to ask any questions on Economics.Ask a question\n"
     ]
    }
   ],
   "source": [
    "print(text)"
   ]
  },
  {
   "cell_type": "code",
   "execution_count": 8,
   "metadata": {},
   "outputs": [
    {
     "data": {
      "text/html": [
       "<span class=\"tex2jax_ignore\"><div class=\"entities\" style=\"line-height: 2.5; direction: ltr\">Movements in the stock market can have a profound economic impact on the economy and individual consumers. A collapse in share prices has the potential to cause widespread economic disruption. Most famously, the stock market crash of \n",
       "<mark class=\"entity\" style=\"background: #bfe1d9; padding: 0.45em 0.6em; margin: 0 0.25em; line-height: 1; border-radius: 0.35em;\">\n",
       "    1929\n",
       "    <span style=\"font-size: 0.8em; font-weight: bold; line-height: 1; border-radius: 0.35em; text-transform: uppercase; vertical-align: middle; margin-left: 0.5rem\">DATE</span>\n",
       "</mark>\n",
       " was a key factor in precipitating the great depression of \n",
       "<mark class=\"entity\" style=\"background: #bfe1d9; padding: 0.45em 0.6em; margin: 0 0.25em; line-height: 1; border-radius: 0.35em;\">\n",
       "    the 1930s\n",
       "    <span style=\"font-size: 0.8em; font-weight: bold; line-height: 1; border-radius: 0.35em; text-transform: uppercase; vertical-align: middle; margin-left: 0.5rem\">DATE</span>\n",
       "</mark>\n",
       ". Yet, \n",
       "<mark class=\"entity\" style=\"background: #bfe1d9; padding: 0.45em 0.6em; margin: 0 0.25em; line-height: 1; border-radius: 0.35em;\">\n",
       "    daily\n",
       "    <span style=\"font-size: 0.8em; font-weight: bold; line-height: 1; border-radius: 0.35em; text-transform: uppercase; vertical-align: middle; margin-left: 0.5rem\">DATE</span>\n",
       "</mark>\n",
       " movements in the stock market can also have less impact on the economy than we might imagine. The stock market is not the real economy. Share prices can change for many reasons – such as correcting an over-valuation and even large falls in share do not necessarily lead to lower growth.\n",
       "<mark class=\"entity\" style=\"background: #e4e7d2; padding: 0.45em 0.6em; margin: 0 0.25em; line-height: 1; border-radius: 0.35em;\">\n",
       "    One\n",
       "    <span style=\"font-size: 0.8em; font-weight: bold; line-height: 1; border-radius: 0.35em; text-transform: uppercase; vertical-align: middle; margin-left: 0.5rem\">CARDINAL</span>\n",
       "</mark>\n",
       " well-known joke is:Stock markets have predicted \n",
       "<mark class=\"entity\" style=\"background: #e4e7d2; padding: 0.45em 0.6em; margin: 0 0.25em; line-height: 1; border-radius: 0.35em;\">\n",
       "    10\n",
       "    <span style=\"font-size: 0.8em; font-weight: bold; line-height: 1; border-radius: 0.35em; text-transform: uppercase; vertical-align: middle; margin-left: 0.5rem\">CARDINAL</span>\n",
       "</mark>\n",
       " out of the last \n",
       "<mark class=\"entity\" style=\"background: #e4e7d2; padding: 0.45em 0.6em; margin: 0 0.25em; line-height: 1; border-radius: 0.35em;\">\n",
       "    three\n",
       "    <span style=\"font-size: 0.8em; font-weight: bold; line-height: 1; border-radius: 0.35em; text-transform: uppercase; vertical-align: middle; margin-left: 0.5rem\">CARDINAL</span>\n",
       "</mark>\n",
       " recessions.The point is a rapid fall in share prices, doesn’t necessarily mean the economy is doing badly.For example, the stock market crash of \n",
       "<mark class=\"entity\" style=\"background: #bfe1d9; padding: 0.45em 0.6em; margin: 0 0.25em; line-height: 1; border-radius: 0.35em;\">\n",
       "    1987\n",
       "    <span style=\"font-size: 0.8em; font-weight: bold; line-height: 1; border-radius: 0.35em; text-transform: uppercase; vertical-align: middle; margin-left: 0.5rem\">DATE</span>\n",
       "</mark>\n",
       ", didn’t cause any economic damage in the real economy. (though it did influence monetary policy). The \n",
       "<mark class=\"entity\" style=\"background: #feca74; padding: 0.45em 0.6em; margin: 0 0.25em; line-height: 1; border-radius: 0.35em;\">\n",
       "    UK\n",
       "    <span style=\"font-size: 0.8em; font-weight: bold; line-height: 1; border-radius: 0.35em; text-transform: uppercase; vertical-align: middle; margin-left: 0.5rem\">GPE</span>\n",
       "</mark>\n",
       " cut interest rates in fear the stock market crash would cause a recession. Instead, low-interest rates caused an economic boom with rapid rates of economic growth.The \n",
       "<mark class=\"entity\" style=\"background: #bfe1d9; padding: 0.45em 0.6em; margin: 0 0.25em; line-height: 1; border-radius: 0.35em;\">\n",
       "    1987\n",
       "    <span style=\"font-size: 0.8em; font-weight: bold; line-height: 1; border-radius: 0.35em; text-transform: uppercase; vertical-align: middle; margin-left: 0.5rem\">DATE</span>\n",
       "</mark>\n",
       " stock market crash (where shares fell \n",
       "<mark class=\"entity\" style=\"background: #e4e7d2; padding: 0.45em 0.6em; margin: 0 0.25em; line-height: 1; border-radius: 0.35em;\">\n",
       "    25%\n",
       "    <span style=\"font-size: 0.8em; font-weight: bold; line-height: 1; border-radius: 0.35em; text-transform: uppercase; vertical-align: middle; margin-left: 0.5rem\">PERCENT</span>\n",
       "</mark>\n",
       " in value) didn’t reflect serious economic problems, and the world economy continued to grow at a decent pace.However, the fall in share prices \n",
       "<mark class=\"entity\" style=\"background: #bfe1d9; padding: 0.45em 0.6em; margin: 0 0.25em; line-height: 1; border-radius: 0.35em;\">\n",
       "    2008/09\n",
       "    <span style=\"font-size: 0.8em; font-weight: bold; line-height: 1; border-radius: 0.35em; text-transform: uppercase; vertical-align: middle; margin-left: 0.5rem\">DATE</span>\n",
       "</mark>\n",
       " was reflecting the real economic problems and after the share price falls of \n",
       "<mark class=\"entity\" style=\"background: #bfe1d9; padding: 0.45em 0.6em; margin: 0 0.25em; line-height: 1; border-radius: 0.35em;\">\n",
       "    2008\n",
       "    <span style=\"font-size: 0.8em; font-weight: bold; line-height: 1; border-radius: 0.35em; text-transform: uppercase; vertical-align: middle; margin-left: 0.5rem\">DATE</span>\n",
       "</mark>\n",
       ", we did get a steep recession starting at \n",
       "<mark class=\"entity\" style=\"background: #bfe1d9; padding: 0.45em 0.6em; margin: 0 0.25em; line-height: 1; border-radius: 0.35em;\">\n",
       "    the end of 2008 early 2009\n",
       "    <span style=\"font-size: 0.8em; font-weight: bold; line-height: 1; border-radius: 0.35em; text-transform: uppercase; vertical-align: middle; margin-left: 0.5rem\">DATE</span>\n",
       "</mark>\n",
       ". The falling share prices and financial uncertainty contributed in a small way to the economic downturn.The fall in share prices since \n",
       "<mark class=\"entity\" style=\"background: #bfe1d9; padding: 0.45em 0.6em; margin: 0 0.25em; line-height: 1; border-radius: 0.35em;\">\n",
       "    the start of the year\n",
       "    <span style=\"font-size: 0.8em; font-weight: bold; line-height: 1; border-radius: 0.35em; text-transform: uppercase; vertical-align: middle; margin-left: 0.5rem\">DATE</span>\n",
       "</mark>\n",
       " primarily reflect concern and uncertainty over the global spread of \n",
       "<mark class=\"entity\" style=\"background: #7aecec; padding: 0.45em 0.6em; margin: 0 0.25em; line-height: 1; border-radius: 0.35em;\">\n",
       "    Coronavirus\n",
       "    <span style=\"font-size: 0.8em; font-weight: bold; line-height: 1; border-radius: 0.35em; text-transform: uppercase; vertical-align: middle; margin-left: 0.5rem\">ORG</span>\n",
       "</mark>\n",
       ". Share prices have fallen \n",
       "<mark class=\"entity\" style=\"background: #e4e7d2; padding: 0.45em 0.6em; margin: 0 0.25em; line-height: 1; border-radius: 0.35em;\">\n",
       "    15%\n",
       "    <span style=\"font-size: 0.8em; font-weight: bold; line-height: 1; border-radius: 0.35em; text-transform: uppercase; vertical-align: middle; margin-left: 0.5rem\">PERCENT</span>\n",
       "</mark>\n",
       " and could fall further. There are good reasons to believe these share price falls do reflect a real economic shock and could be the precursor to a recession in \n",
       "<mark class=\"entity\" style=\"background: #bfe1d9; padding: 0.45em 0.6em; margin: 0 0.25em; line-height: 1; border-radius: 0.35em;\">\n",
       "    2020\n",
       "    <span style=\"font-size: 0.8em; font-weight: bold; line-height: 1; border-radius: 0.35em; text-transform: uppercase; vertical-align: middle; margin-left: 0.5rem\">DATE</span>\n",
       "</mark>\n",
       ". The share price falls reflect – not market adjustment – but an awareness of disruption of supply chains, a disruption to the free movement of people and goods, and a shock to aggregate demand as consumers and business cut back on consumption and investment.\n",
       "<mark class=\"entity\" style=\"background: #e4e7d2; padding: 0.45em 0.6em; margin: 0 0.25em; line-height: 1; border-radius: 0.35em;\">\n",
       "    Between 2000 and 2004\n",
       "    <span style=\"font-size: 0.8em; font-weight: bold; line-height: 1; border-radius: 0.35em; text-transform: uppercase; vertical-align: middle; margin-left: 0.5rem\">CARDINAL</span>\n",
       "</mark>\n",
       ", share prices fell steadily (especially in \n",
       "<mark class=\"entity\" style=\"background: #bfe1d9; padding: 0.45em 0.6em; margin: 0 0.25em; line-height: 1; border-radius: 0.35em;\">\n",
       "    2002\n",
       "    <span style=\"font-size: 0.8em; font-weight: bold; line-height: 1; border-radius: 0.35em; text-transform: uppercase; vertical-align: middle; margin-left: 0.5rem\">DATE</span>\n",
       "</mark>\n",
       "). This did not cause an economic recession, but economic growth was quite strong from \n",
       "<mark class=\"entity\" style=\"background: #bfe1d9; padding: 0.45em 0.6em; margin: 0 0.25em; line-height: 1; border-radius: 0.35em;\">\n",
       "    2000-2007\n",
       "    <span style=\"font-size: 0.8em; font-weight: bold; line-height: 1; border-radius: 0.35em; text-transform: uppercase; vertical-align: middle; margin-left: 0.5rem\">DATE</span>\n",
       "</mark>\n",
       " – see great moderation. Share price falls were partly an adjustment to overvalued tech stocks, uncertainty following the \n",
       "<mark class=\"entity\" style=\"background: #e4e7d2; padding: 0.45em 0.6em; margin: 0 0.25em; line-height: 1; border-radius: 0.35em;\">\n",
       "    9/11\n",
       "    <span style=\"font-size: 0.8em; font-weight: bold; line-height: 1; border-radius: 0.35em; text-transform: uppercase; vertical-align: middle; margin-left: 0.5rem\">CARDINAL</span>\n",
       "</mark>\n",
       " terrorist attack and just a general bear market. However, this shock was not significant to the economy – \n",
       "<mark class=\"entity\" style=\"background: #7aecec; padding: 0.45em 0.6em; margin: 0 0.25em; line-height: 1; border-radius: 0.35em;\">\n",
       "    the Federal Reserve\n",
       "    <span style=\"font-size: 0.8em; font-weight: bold; line-height: 1; border-radius: 0.35em; text-transform: uppercase; vertical-align: middle; margin-left: 0.5rem\">ORG</span>\n",
       "</mark>\n",
       " responded by cutting interest rates, and the economy soon recovered from the temporary blip after \n",
       "<mark class=\"entity\" style=\"background: #bfe1d9; padding: 0.45em 0.6em; margin: 0 0.25em; line-height: 1; border-radius: 0.35em;\">\n",
       "    Sept 2001.In\n",
       "    <span style=\"font-size: 0.8em; font-weight: bold; line-height: 1; border-radius: 0.35em; text-transform: uppercase; vertical-align: middle; margin-left: 0.5rem\">DATE</span>\n",
       "</mark>\n",
       " other words, share prices alone do not cause economic recessions, but if share prices reflect a fundamental weakness in the economy – then they may be the harbinger of an economic slowdown.Plummeting share prices can make headline news. But, how much should we worry when share prices fall? How does it impact the average consumer? And how does it affect the economy?1. Wealth effectThe \n",
       "<mark class=\"entity\" style=\"background: #e4e7d2; padding: 0.45em 0.6em; margin: 0 0.25em; line-height: 1; border-radius: 0.35em;\">\n",
       "    first\n",
       "    <span style=\"font-size: 0.8em; font-weight: bold; line-height: 1; border-radius: 0.35em; text-transform: uppercase; vertical-align: middle; margin-left: 0.5rem\">ORDINAL</span>\n",
       "</mark>\n",
       " impact is that people with shares will see a fall in their wealth. If the fall is significant, it will affect their financial outlook. If they are losing money on shares they will be more hesitant to spend money; this can contribute to a fall in consumer spending. However, this effect should not be given too much importance. Often people who buy shares are wealthy and prepared to lose money; their spending patterns are usually independent of share prices, especially for short-term losses. Also, \n",
       "<mark class=\"entity\" style=\"background: #e4e7d2; padding: 0.45em 0.6em; margin: 0 0.25em; line-height: 1; border-radius: 0.35em;\">\n",
       "    only around 10%\n",
       "    <span style=\"font-size: 0.8em; font-weight: bold; line-height: 1; border-radius: 0.35em; text-transform: uppercase; vertical-align: middle; margin-left: 0.5rem\">PERCENT</span>\n",
       "</mark>\n",
       " of households own shares – for the majority of consumers, they will not be directly affected by a fall in share prices.The wealth effect is more prominent in the housing market.  (e.g. falling house prices affect more consumers)2. Effect on pensionsAnybody with a private pension or investment trust will be affected by the stock market, at least indirectly. Pension funds invest a significant part of their funds in the stock market. Therefore, if there is a serious and prolonged fall in share prices, it reduces the value of pension funds. This means that future pension payouts will be lower. If share prices fall too much, pension funds can struggle to meet their promises. The important thing is the long-term movements in the share prices. If share prices fall for a long time, then it will definitely affect pension funds and future payouts. This may cause households to have lower pension income, and they may feel the need to save more in other terms.3. \n",
       "<mark class=\"entity\" style=\"background: #7aecec; padding: 0.45em 0.6em; margin: 0 0.25em; line-height: 1; border-radius: 0.35em;\">\n",
       "    ConfidenceOften\n",
       "    <span style=\"font-size: 0.8em; font-weight: bold; line-height: 1; border-radius: 0.35em; text-transform: uppercase; vertical-align: middle; margin-left: 0.5rem\">ORG</span>\n",
       "</mark>\n",
       " share price movements are reflections of what is happening in the economy. E.g. a fear of a recession and global slowdown could cause share prices to fall. The stock market itself can affect consumer confidence. Bad headlines of falling share prices are another factor which discourages people from spending. For example, the stock market falls of \n",
       "<mark class=\"entity\" style=\"background: #bfe1d9; padding: 0.45em 0.6em; margin: 0 0.25em; line-height: 1; border-radius: 0.35em;\">\n",
       "    2008/09\n",
       "    <span style=\"font-size: 0.8em; font-weight: bold; line-height: 1; border-radius: 0.35em; text-transform: uppercase; vertical-align: middle; margin-left: 0.5rem\">DATE</span>\n",
       "</mark>\n",
       " reflected the fall in confidence. On its own, it may not have much effect, but combined with falling house prices, share prices can be a discouraging factor. However, there are times when the stock market can appear out of step with the rest of the economy. In the depth of a recession, share prices may rise as investors look forward to a recovery \n",
       "<mark class=\"entity\" style=\"background: #bfe1d9; padding: 0.45em 0.6em; margin: 0 0.25em; line-height: 1; border-radius: 0.35em;\">\n",
       "    two years\n",
       "    <span style=\"font-size: 0.8em; font-weight: bold; line-height: 1; border-radius: 0.35em; text-transform: uppercase; vertical-align: middle; margin-left: 0.5rem\">DATE</span>\n",
       "</mark>\n",
       " in the future.4. InvestmentFalling share prices can hamper firms ability to raise finance on the stock market. Firms who are expanding and wish to borrow often do so by issuing more shares – it provides a low-cost way of borrowing more money. However, with falling share prices it becomes much more difficult.5. Bond marketA fall in the stock market makes other investments more attractive. People may move out of shares and into government bonds or gold. These investments offer a better return in times of uncertainty. Though sometimes the stock market could be falling over concerns in government bond markets (e.g. Euro fiscal crisis)Most people who do not own shares will be largely unaffected by short-term movements in the stock market. However, ordinary workers are not completely unaffected by the stock market.1. Pension funds. Many private pension funds will invest in the stock market. A substantial and prolonged fall in the stock market could lead to a fall in the value of their pension fund, and it could lead to lower pension payouts when they retire. Similarly, if the stock market does well, the value of pension funds could increase. Even if people don’t own shares, it is quite likely people with a private pension will have some connection to the stock market.</br></br></br></br>However, most shares are owned by the richest \n",
       "<mark class=\"entity\" style=\"background: #e4e7d2; padding: 0.45em 0.6em; margin: 0 0.25em; line-height: 1; border-radius: 0.35em;\">\n",
       "    10%\n",
       "    <span style=\"font-size: 0.8em; font-weight: bold; line-height: 1; border-radius: 0.35em; text-transform: uppercase; vertical-align: middle; margin-left: 0.5rem\">PERCENT</span>\n",
       "</mark>\n",
       " of income owners. According to this paper on middle-class wealth, the poorest \n",
       "<mark class=\"entity\" style=\"background: #e4e7d2; padding: 0.45em 0.6em; margin: 0 0.25em; line-height: 1; border-radius: 0.35em;\">\n",
       "    90%\n",
       "    <span style=\"font-size: 0.8em; font-weight: bold; line-height: 1; border-radius: 0.35em; text-transform: uppercase; vertical-align: middle; margin-left: 0.5rem\">PERCENT</span>\n",
       "</mark>\n",
       " of income earners – own \n",
       "<mark class=\"entity\" style=\"background: #e4e7d2; padding: 0.45em 0.6em; margin: 0 0.25em; line-height: 1; border-radius: 0.35em;\">\n",
       "    just 7%\n",
       "    <span style=\"font-size: 0.8em; font-weight: bold; line-height: 1; border-radius: 0.35em; text-transform: uppercase; vertical-align: middle; margin-left: 0.5rem\">PERCENT</span>\n",
       "</mark>\n",
       " of all equity. So a fall in share prices primarily affects the top \n",
       "<mark class=\"entity\" style=\"background: #e4e7d2; padding: 0.45em 0.6em; margin: 0 0.25em; line-height: 1; border-radius: 0.35em;\">\n",
       "    10%\n",
       "    <span style=\"font-size: 0.8em; font-weight: bold; line-height: 1; border-radius: 0.35em; text-transform: uppercase; vertical-align: middle; margin-left: 0.5rem\">PERCENT</span>\n",
       "</mark>\n",
       " of wealthy households.2. Business investment. The stock market could be a source of business investment, e.g. firms offering new shares to finance investment. This could lead to more jobs and growth. The stock market can be a source of private finance when bank finance is limited. However, the stock market is not usually the \n",
       "<mark class=\"entity\" style=\"background: #e4e7d2; padding: 0.45em 0.6em; margin: 0 0.25em; line-height: 1; border-radius: 0.35em;\">\n",
       "    first\n",
       "    <span style=\"font-size: 0.8em; font-weight: bold; line-height: 1; border-radius: 0.35em; text-transform: uppercase; vertical-align: middle; margin-left: 0.5rem\">ORDINAL</span>\n",
       "</mark>\n",
       " source of finance. Most investment is usually financed through bank loans rather than share options. The stock market only plays a limited role in determining investment and \n",
       "<mark class=\"entity\" style=\"background: #aa9cfc; padding: 0.45em 0.6em; margin: 0 0.25em; line-height: 1; border-radius: 0.35em;\">\n",
       "    jobs.3\n",
       "    <span style=\"font-size: 0.8em; font-weight: bold; line-height: 1; border-radius: 0.35em; text-transform: uppercase; vertical-align: middle; margin-left: 0.5rem\">PERSON</span>\n",
       "</mark>\n",
       ". Short-termism. It could be argued workers and consumers can be adversely affected by the short-termism that the stock market encourages. Shareholders usually want bigger dividends. Therefore, firms listed on the stock market can feel under pressure to increase short-term profits. This can lead to cost-cutting which affects workers (e.g. \n",
       "<mark class=\"entity\" style=\"background: #bfe1d9; padding: 0.45em 0.6em; margin: 0 0.25em; line-height: 1; border-radius: 0.35em;\">\n",
       "    zero contract hours\n",
       "    <span style=\"font-size: 0.8em; font-weight: bold; line-height: 1; border-radius: 0.35em; text-transform: uppercase; vertical-align: middle; margin-left: 0.5rem\">TIME</span>\n",
       "</mark>\n",
       "), or the firm may be more tempted to engage in collusive practices which push up prices for consumers. It has been argued that \n",
       "<mark class=\"entity\" style=\"background: #feca74; padding: 0.45em 0.6em; margin: 0 0.25em; line-height: 1; border-radius: 0.35em;\">\n",
       "    UK\n",
       "    <span style=\"font-size: 0.8em; font-weight: bold; line-height: 1; border-radius: 0.35em; text-transform: uppercase; vertical-align: middle; margin-left: 0.5rem\">GPE</span>\n",
       "</mark>\n",
       " firms are more prone to short-termism because the stock market plays a bigger role in financing firms. In \n",
       "<mark class=\"entity\" style=\"background: #feca74; padding: 0.45em 0.6em; margin: 0 0.25em; line-height: 1; border-radius: 0.35em;\">\n",
       "    Germany\n",
       "    <span style=\"font-size: 0.8em; font-weight: bold; line-height: 1; border-radius: 0.35em; text-transform: uppercase; vertical-align: middle; margin-left: 0.5rem\">GPE</span>\n",
       "</mark>\n",
       ", firms are more likely to be financed by long-term loans from banks. Typically, banks are more interested in the long-term success of firms and are willing to encourage more investment, rather than short-term profit maximisation.\n",
       "<mark class=\"entity\" style=\"background: #7aecec; padding: 0.45em 0.6em; margin: 0 0.25em; line-height: 1; border-radius: 0.35em;\">\n",
       "    RelatedI am conducting research\n",
       "    <span style=\"font-size: 0.8em; font-weight: bold; line-height: 1; border-radius: 0.35em; text-transform: uppercase; vertical-align: middle; margin-left: 0.5rem\">ORG</span>\n",
       "</mark>\n",
       " on corporate performance. I used stock market development, measured by stock market capitalisation to GDP%, as control variable. the result shows that stock market development has significant negative effect on firm performance (\n",
       "<mark class=\"entity\" style=\"background: #aa9cfc; padding: 0.45em 0.6em; margin: 0 0.25em; line-height: 1; border-radius: 0.35em;\">\n",
       "    Tobin\n",
       "    <span style=\"font-size: 0.8em; font-weight: bold; line-height: 1; border-radius: 0.35em; text-transform: uppercase; vertical-align: middle; margin-left: 0.5rem\">PERSON</span>\n",
       "</mark>\n",
       "’s q and \n",
       "<mark class=\"entity\" style=\"background: #aa9cfc; padding: 0.45em 0.6em; margin: 0 0.25em; line-height: 1; border-radius: 0.35em;\">\n",
       "    ROA\n",
       "    <span style=\"font-size: 0.8em; font-weight: bold; line-height: 1; border-radius: 0.35em; text-transform: uppercase; vertical-align: middle; margin-left: 0.5rem\">PERSON</span>\n",
       "</mark>\n",
       "). I have conducted different robustness checks but the result remains the same.</br>What would be the argument or the reason for such adverse effect of stock market development on firm performance?A collapse in share prices has the potential to cause widespread economic disruption. Most famously, the stock market crash of \n",
       "<mark class=\"entity\" style=\"background: #bfe1d9; padding: 0.45em 0.6em; margin: 0 0.25em; line-height: 1; border-radius: 0.35em;\">\n",
       "    1929\n",
       "    <span style=\"font-size: 0.8em; font-weight: bold; line-height: 1; border-radius: 0.35em; text-transform: uppercase; vertical-align: middle; margin-left: 0.5rem\">DATE</span>\n",
       "</mark>\n",
       " was a key factor in precipitating the great depression of \n",
       "<mark class=\"entity\" style=\"background: #bfe1d9; padding: 0.45em 0.6em; margin: 0 0.25em; line-height: 1; border-radius: 0.35em;\">\n",
       "    the 1930s\n",
       "    <span style=\"font-size: 0.8em; font-weight: bold; line-height: 1; border-radius: 0.35em; text-transform: uppercase; vertical-align: middle; margin-left: 0.5rem\">DATE</span>\n",
       "</mark>\n",
       ".Thank you very much. All the facts explained by you are very simple and easy.Agreed. Thank you to the author.Extremely interesting read! Thank you 🙂Commentdocument.getElementById(&quot;comment&quot;).setAttribute( &quot;id&quot;, &quot;a7147477734613f1afb837423d680aef&quot; );document.getElementById(&quot;e6137aa713&quot;).setAttribute( &quot;id&quot;, &quot;comment&quot; ); </br></br>View: all Revision Guides</br>A-Level revision guide</br>£\n",
       "<mark class=\"entity\" style=\"background: #e4e7d2; padding: 0.45em 0.6em; margin: 0 0.25em; line-height: 1; border-radius: 0.35em;\">\n",
       "    7.95\n",
       "    <span style=\"font-size: 0.8em; font-weight: bold; line-height: 1; border-radius: 0.35em; text-transform: uppercase; vertical-align: middle; margin-left: 0.5rem\">MONEY</span>\n",
       "</mark>\n",
       " AS-Level Revision guide</br> £\n",
       "<mark class=\"entity\" style=\"background: #e4e7d2; padding: 0.45em 0.6em; margin: 0 0.25em; line-height: 1; border-radius: 0.35em;\">\n",
       "    4.00\n",
       "    <span style=\"font-size: 0.8em; font-weight: bold; line-height: 1; border-radius: 0.35em; text-transform: uppercase; vertical-align: middle; margin-left: 0.5rem\">MONEY</span>\n",
       "</mark>\n",
       "</br>A-Level Model Essays £\n",
       "<mark class=\"entity\" style=\"background: #e4e7d2; padding: 0.45em 0.6em; margin: 0 0.25em; line-height: 1; border-radius: 0.35em;\">\n",
       "    8.00\n",
       "    <span style=\"font-size: 0.8em; font-weight: bold; line-height: 1; border-radius: 0.35em; text-transform: uppercase; vertical-align: middle; margin-left: 0.5rem\">MONEY</span>\n",
       "</mark>\n",
       " \n",
       "<mark class=\"entity\" style=\"background: #7aecec; padding: 0.45em 0.6em; margin: 0 0.25em; line-height: 1; border-radius: 0.35em;\">\n",
       "    GCSE Revision Guide\n",
       "    <span style=\"font-size: 0.8em; font-weight: bold; line-height: 1; border-radius: 0.35em; text-transform: uppercase; vertical-align: middle; margin-left: 0.5rem\">ORG</span>\n",
       "</mark>\n",
       " £\n",
       "<mark class=\"entity\" style=\"background: #e4e7d2; padding: 0.45em 0.6em; margin: 0 0.25em; line-height: 1; border-radius: 0.35em;\">\n",
       "    7.49\n",
       "    <span style=\"font-size: 0.8em; font-weight: bold; line-height: 1; border-radius: 0.35em; text-transform: uppercase; vertical-align: middle; margin-left: 0.5rem\">MONEY</span>\n",
       "</mark>\n",
       "</br></br></br></br>(adsbygoogle = window.adsbygoogle || []).push({});</br> Cracking Economics</br>– A visual guide</br>– from £6.99What would \n",
       "<mark class=\"entity\" style=\"background: #aa9cfc; padding: 0.45em 0.6em; margin: 0 0.25em; line-height: 1; border-radius: 0.35em;\">\n",
       "    Keynes\n",
       "    <span style=\"font-size: 0.8em; font-weight: bold; line-height: 1; border-radius: 0.35em; text-transform: uppercase; vertical-align: middle; margin-left: 0.5rem\">PERSON</span>\n",
       "</mark>\n",
       " Do?</br>– from £\n",
       "<mark class=\"entity\" style=\"background: #e4e7d2; padding: 0.45em 0.6em; margin: 0 0.25em; line-height: 1; border-radius: 0.35em;\">\n",
       "    6.99UK\n",
       "    <span style=\"font-size: 0.8em; font-weight: bold; line-height: 1; border-radius: 0.35em; text-transform: uppercase; vertical-align: middle; margin-left: 0.5rem\">MONEY</span>\n",
       "</mark>\n",
       " economy statsYou are welcome to ask any questions on \n",
       "<mark class=\"entity\" style=\"background: #7aecec; padding: 0.45em 0.6em; margin: 0 0.25em; line-height: 1; border-radius: 0.35em;\">\n",
       "    Economics\n",
       "    <span style=\"font-size: 0.8em; font-weight: bold; line-height: 1; border-radius: 0.35em; text-transform: uppercase; vertical-align: middle; margin-left: 0.5rem\">ORG</span>\n",
       "</mark>\n",
       ".Ask a question</div></span>"
      ],
      "text/plain": [
       "<IPython.core.display.HTML object>"
      ]
     },
     "metadata": {},
     "output_type": "display_data"
    }
   ],
   "source": [
    "document = nlp(text)\n",
    "displacy.render(document, style = \"ent\",jupyter = True)"
   ]
  },
  {
   "cell_type": "code",
   "execution_count": 9,
   "metadata": {},
   "outputs": [
    {
     "name": "stdout",
     "output_type": "stream",
     "text": [
      "[('1929', 'DATE'), ('the 1930s', 'DATE'), ('daily', 'DATE'), ('One', 'CARDINAL'), ('10', 'CARDINAL'), ('three', 'CARDINAL'), ('1987', 'DATE'), ('UK', 'GPE'), ('1987', 'DATE'), ('25%', 'PERCENT'), ('2008/09', 'DATE'), ('2008', 'DATE'), ('the end of 2008 early 2009', 'DATE'), ('the start of the year', 'DATE'), ('Coronavirus', 'ORG'), ('15%', 'PERCENT'), ('2020', 'DATE'), ('Between 2000 and 2004', 'CARDINAL'), ('2002', 'DATE'), ('2000-2007', 'DATE'), ('9/11', 'CARDINAL'), ('the Federal Reserve', 'ORG'), ('Sept 2001.In', 'DATE'), ('first', 'ORDINAL'), ('only around 10%', 'PERCENT'), ('ConfidenceOften', 'ORG'), ('2008/09', 'DATE'), ('two years', 'DATE'), ('10%', 'PERCENT'), ('90%', 'PERCENT'), ('just 7%', 'PERCENT'), ('10%', 'PERCENT'), ('first', 'ORDINAL'), ('jobs.3', 'PERSON'), ('zero contract hours', 'TIME'), ('UK', 'GPE'), ('Germany', 'GPE'), ('RelatedI am conducting research', 'ORG'), ('Tobin', 'PERSON'), ('ROA', 'PERSON'), ('1929', 'DATE'), ('the 1930s', 'DATE'), ('7.95', 'MONEY'), ('4.00', 'MONEY'), ('8.00', 'MONEY'), ('GCSE Revision Guide', 'ORG'), ('7.49', 'MONEY'), ('Keynes', 'PERSON'), ('6.99UK', 'MONEY'), ('Economics', 'ORG')]\n"
     ]
    },
    {
     "data": {
      "text/html": [
       "<div>\n",
       "<style scoped>\n",
       "    .dataframe tbody tr th:only-of-type {\n",
       "        vertical-align: middle;\n",
       "    }\n",
       "\n",
       "    .dataframe tbody tr th {\n",
       "        vertical-align: top;\n",
       "    }\n",
       "\n",
       "    .dataframe thead th {\n",
       "        text-align: right;\n",
       "    }\n",
       "</style>\n",
       "<table border=\"1\" class=\"dataframe\">\n",
       "  <thead>\n",
       "    <tr style=\"text-align: right;\">\n",
       "      <th></th>\n",
       "      <th>Entity</th>\n",
       "      <th>Label</th>\n",
       "    </tr>\n",
       "  </thead>\n",
       "  <tbody>\n",
       "    <tr>\n",
       "      <td>0</td>\n",
       "      <td>1929</td>\n",
       "      <td>DATE</td>\n",
       "    </tr>\n",
       "    <tr>\n",
       "      <td>1</td>\n",
       "      <td>the 1930s</td>\n",
       "      <td>DATE</td>\n",
       "    </tr>\n",
       "    <tr>\n",
       "      <td>2</td>\n",
       "      <td>daily</td>\n",
       "      <td>DATE</td>\n",
       "    </tr>\n",
       "    <tr>\n",
       "      <td>3</td>\n",
       "      <td>One</td>\n",
       "      <td>CARDINAL</td>\n",
       "    </tr>\n",
       "    <tr>\n",
       "      <td>4</td>\n",
       "      <td>10</td>\n",
       "      <td>CARDINAL</td>\n",
       "    </tr>\n",
       "  </tbody>\n",
       "</table>\n",
       "</div>"
      ],
      "text/plain": [
       "      Entity     Label\n",
       "0       1929      DATE\n",
       "1  the 1930s      DATE\n",
       "2      daily      DATE\n",
       "3        One  CARDINAL\n",
       "4         10  CARDINAL"
      ]
     },
     "execution_count": 9,
     "metadata": {},
     "output_type": "execute_result"
    }
   ],
   "source": [
    "entities=[(str(i), i.label_) for i in document.ents]\n",
    "print(entities)\n",
    "entities_df = pd.DataFrame(entities, columns =['Entity', 'Label'])\n",
    "entities_df.head()"
   ]
  },
  {
   "cell_type": "code",
   "execution_count": 10,
   "metadata": {},
   "outputs": [
    {
     "data": {
      "text/plain": [
       "DATE        17\n",
       "PERCENT      7\n",
       "ORG          6\n",
       "CARDINAL     5\n",
       "MONEY        5\n",
       "PERSON       4\n",
       "GPE          3\n",
       "ORDINAL      2\n",
       "TIME         1\n",
       "Name: Label, dtype: int64"
      ]
     },
     "execution_count": 10,
     "metadata": {},
     "output_type": "execute_result"
    }
   ],
   "source": [
    "counts = entities_df['Label'].value_counts()\n",
    "counts"
   ]
  },
  {
   "cell_type": "code",
   "execution_count": 11,
   "metadata": {},
   "outputs": [
    {
     "data": {
      "image/png": "[encoded data removed]",
      "text/plain": [
       "<Figure size 576x432 with 1 Axes>"
      ]
     },
     "metadata": {
      "needs_background": "light"
     },
     "output_type": "display_data"
    }
   ],
   "source": [
    "plt.figure(figsize=(8, 6))\n",
    "sns.countplot(x = 'Label', data = entities_df, palette = 'magma')\n",
    "plt.title('Named Entity Relationship Count')\n",
    "plt.show()"
   ]
  },
  {
   "cell_type": "code",
   "execution_count": null,
   "metadata": {},
   "outputs": [],
   "source": []
  }
 ],
 "metadata": {
  "kernelspec": {
   "display_name": "Python 3",
   "language": "python",
   "name": "python3"
  },
  "language_info": {
   "codemirror_mode": {
    "name": "ipython",
    "version": 3
   },
   "file_extension": ".py",
   "mimetype": "text/x-python",
   "name": "python",
   "nbconvert_exporter": "python",
   "pygments_lexer": "ipython3",
   "version": "3.7.4"
  }
 },
 "nbformat": 4,
 "nbformat_minor": 2
}
